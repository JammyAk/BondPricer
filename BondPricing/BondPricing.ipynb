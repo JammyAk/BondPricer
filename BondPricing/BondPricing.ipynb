{
 "cells": [
  {
   "cell_type": "code",
   "execution_count": 1,
   "id": "ad137f06-1cb7-4a4d-a10b-cafdb18e845a",
   "metadata": {},
   "outputs": [],
   "source": [
    "# Libraries\n",
    "from Bond import *\n",
    "#import quandl as ql\n",
    "import pandas as pd\n",
    "import numpy as np"
   ]
  },
  {
   "cell_type": "code",
   "execution_count": 2,
   "id": "362c93e7-a412-47b1-bc83-1d241f14b13f",
   "metadata": {},
   "outputs": [
    {
     "name": "stdout",
     "output_type": "stream",
     "text": [
      "Fixed-Rate Bond Price: $1044.52\n",
      "Zero-Coupon Bond Price: $783.53\n",
      "Floating-Rate Bond Price: $1042.77\n",
      "Bond with Yield Curve Price: $1048.96\n"
     ]
    }
   ],
   "source": [
    "# Testing pricer with random numbers\n",
    "\n",
    "fixed_bond = FixedRateBond(face_value=1000, maturity=5, ytm=0.04, coupon_rate=0.05)\n",
    "print(f\"Fixed-Rate Bond Price: ${fixed_bond.price():.2f}\")\n",
    "\n",
    "zero_coupon_bond = ZeroCouponBond(face_value=1000, maturity=5, ytm=0.05)\n",
    "print(f\"Zero-Coupon Bond Price: ${zero_coupon_bond.price():.2f}\")\n",
    "\n",
    "reference_rates = [0.03, 0.035, 0.04, 0.045, 0.05]\n",
    "floating_rate_bond = FloatingRateBond(face_value=1000, maturity=5, ytm=0.04, margin=0.01, reference_rates=reference_rates)\n",
    "print(f\"Floating-Rate Bond Price: ${floating_rate_bond.price():.2f}\")\n",
    "\n",
    "yield_curve = [0.02, 0.025, 0.03, 0.035, 0.04]\n",
    "bond_with_yield_curve = BondWithYieldCurve(face_value=1000, maturity=5, coupon_rate=0.05, yield_curve=yield_curve)\n",
    "print(f\"Bond with Yield Curve Price: ${bond_with_yield_curve.price():.2f}\")"
   ]
  },
  {
   "cell_type": "code",
   "execution_count": null,
   "id": "4c4804a4-3d21-484b-bf6b-64e00cc888b0",
   "metadata": {},
   "outputs": [],
   "source": []
  }
 ],
 "metadata": {
  "kernelspec": {
   "display_name": "Python 3 (ipykernel)",
   "language": "python",
   "name": "python3"
  },
  "language_info": {
   "codemirror_mode": {
    "name": "ipython",
    "version": 3
   },
   "file_extension": ".py",
   "mimetype": "text/x-python",
   "name": "python",
   "nbconvert_exporter": "python",
   "pygments_lexer": "ipython3",
   "version": "3.11.5"
  }
 },
 "nbformat": 4,
 "nbformat_minor": 5
}
